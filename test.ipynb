{
 "cells": [
  {
   "cell_type": "code",
   "execution_count": 1,
   "metadata": {},
   "outputs": [],
   "source": [
    "from pathlib import Path\n",
    "import random\n",
    "from random import randrange\n",
    "import re\n",
    "from typing import Any, Tuple\n",
    "\n",
    "\n",
    "from moviepy.editor import VideoFileClip\n",
    "from moviepy.video.io.ffmpeg_tools import ffmpeg_extract_subclip\n",
    "from pytube import YouTube\n",
    "from pytube.cli import on_progress\n",
    "\n",
    "from utils import settings\n",
    "from utils.CONSTANTS import background_options\n",
    "from utils.console import print_step, print_substep\n"
   ]
  },
  {
   "cell_type": "code",
   "execution_count": 29,
   "metadata": {},
   "outputs": [],
   "source": [
    "def get_start_and_end_times(video_length: int, length_of_clip: int) -> Tuple[int, int]:\n",
    "    \"\"\"Generates a random interval of time to be used as the background of the video.\n",
    "\n",
    "    Args:\n",
    "        video_length (int): Length of the video\n",
    "        length_of_clip (int): Length of the video to be used as the background\n",
    "\n",
    "    Returns:\n",
    "        tuple[int,int]: Start and end time of the randomized interval\n",
    "    \"\"\"\n",
    "    random_time = randrange(180, int(length_of_clip) - int(video_length))\n",
    "    return random_time, random_time + video_length"
   ]
  },
  {
   "cell_type": "code",
   "execution_count": 28,
   "metadata": {},
   "outputs": [],
   "source": [
    "def get_background_config():\n",
    "    \"\"\"Fetch the background/s configuration\"\"\"\n",
    "    try:\n",
    "        choice = str(settings.config[\"settings\"][\"background\"][\"background_choice\"]).casefold()\n",
    "    except AttributeError:\n",
    "        print_substep(\"No background selected. Picking random background'\")\n",
    "        choice = None\n",
    "\n",
    "    # Handle default / not supported background using default option.\n",
    "    # Default : pick random from supported background.\n",
    "    if not choice or choice not in background_options:\n",
    "        choice = random.choice(list(background_options.keys()))\n",
    "\n",
    "    return background_options[choice]"
   ]
  },
  {
   "cell_type": "code",
   "execution_count": 24,
   "metadata": {},
   "outputs": [],
   "source": [
    "def chop_background_video(background_config: Tuple[str, str, str, Any], video_length: int):\n",
    "    \"\"\"Generates the background footage to be used in the video and writes it to assets/temp/background.mp4\n",
    "\n",
    "    Args:\n",
    "        background_config (Tuple[str, str, str, Any]) : Current background configuration\n",
    "        video_length (int): Length of the clip where the background footage is to be taken out of\n",
    "    \"\"\"\n",
    "\n",
    "    print_step(\"Finding a spot in the backgrounds video to chop...✂️\")\n",
    "    choice = f\"{background_config[2]}-{background_config[1]}\"\n",
    "    background = VideoFileClip(f\"assets/backgrounds/{choice}\")\n",
    "\n",
    "    start_time, end_time = get_start_and_end_times(video_length, background.duration)\n",
    "    try:\n",
    "        ffmpeg_extract_subclip(\n",
    "            f\"assets/backgrounds/{choice}\",\n",
    "            start_time,\n",
    "            end_time,\n",
    "            targetname=f\"assets/backgrounds/cut_vid/background.mp4\",\n",
    "        )\n",
    "    except (OSError, IOError):  # ffmpeg issue see #348\n",
    "        print_substep(\"FFMPEG issue. Trying again...\")\n",
    "        with VideoFileClip(f\"assets/backgrounds/{choice}\") as video:\n",
    "            new = video.subclip(start_time, end_time)\n",
    "            new.write_videofile(f\"assets/backgrounds/cut_vid/background.mp4\")\n",
    "    print_substep(\"Background video chopped successfully!\", style=\"bold green\")\n",
    "    return background_config[2]"
   ]
  },
  {
   "cell_type": "code",
   "execution_count": 2,
   "metadata": {},
   "outputs": [],
   "source": [
    "def download_background(background_config: Tuple[str, str, str, Any]):\n",
    "    \"\"\"Downloads the background/s video from YouTube.\"\"\"\n",
    "    Path(\"./assets/backgrounds/\").mkdir(parents=True, exist_ok=True)\n",
    "    # note: make sure the file name doesn't include an - in it\n",
    "    uri, filename, credit, _ = background_config\n",
    "    if Path(f\"assets/backgrounds/{credit}-{filename}\").is_file():\n",
    "        return\n",
    "    print_step(\n",
    "        \"We need to download the backgrounds videos. they are fairly large but it's only done once. 😎\"\n",
    "    )\n",
    "    print_substep(\"Downloading the backgrounds videos... please be patient 🙏 \")\n",
    "    print_substep(f\"Downloading {filename} from {uri}\")\n",
    "    YouTube(uri, on_progress_callback=on_progress).streams.filter(res=\"1080p\").first().download(\n",
    "        \"assets/backgrounds\", filename=f\"{credit}-{filename}\"\n",
    "    )\n",
    "    print_substep(\"Background video downloaded successfully! 🎉\", style=\"bold green\")"
   ]
  },
  {
   "cell_type": "code",
   "execution_count": 13,
   "metadata": {},
   "outputs": [
    {
     "data": {
      "text/html": [
       "<pre style=\"white-space:pre;overflow-x:auto;line-height:normal;font-family:Menlo,'DejaVu Sans Mono',consolas,'Courier New',monospace\">╭─────────────────────────────────────────────────────────────────────────────────────────────────────────────────╮\n",
       "│ We need to download the backgrounds videos. they are fairly large but it's only done once. 😎                   │\n",
       "╰─────────────────────────────────────────────────────────────────────────────────────────────────────────────────╯\n",
       "</pre>\n"
      ],
      "text/plain": [
       "╭─────────────────────────────────────────────────────────────────────────────────────────────────────────────────╮\n",
       "│ We need to download the backgrounds videos. they are fairly large but it's only done once. 😎                   │\n",
       "╰─────────────────────────────────────────────────────────────────────────────────────────────────────────────────╯\n"
      ]
     },
     "metadata": {},
     "output_type": "display_data"
    },
    {
     "data": {
      "text/html": [
       "<pre style=\"white-space:pre;overflow-x:auto;line-height:normal;font-family:Menlo,'DejaVu Sans Mono',consolas,'Courier New',monospace\">Downloading the backgrounds videos<span style=\"color: #808000; text-decoration-color: #808000\">...</span> please be patient 🙏 \n",
       "</pre>\n"
      ],
      "text/plain": [
       "Downloading the backgrounds videos\u001b[33m...\u001b[0m please be patient 🙏 \n"
      ]
     },
     "metadata": {},
     "output_type": "display_data"
    },
    {
     "data": {
      "text/html": [
       "<pre style=\"white-space:pre;overflow-x:auto;line-height:normal;font-family:Menlo,'DejaVu Sans Mono',consolas,'Courier New',monospace\">Downloading parkour.mp4 from <span style=\"color: #0000ff; text-decoration-color: #0000ff; text-decoration: underline\">https://www.youtube.com/watch?v=n_Dv4JMiwK8</span>\n",
       "</pre>\n"
      ],
      "text/plain": [
       "Downloading parkour.mp4 from \u001b[4;94mhttps://www.youtube.com/watch?\u001b[0m\u001b[4;94mv\u001b[0m\u001b[4;94m=\u001b[0m\u001b[4;94mn_Dv4JMiwK8\u001b[0m\n"
      ]
     },
     "metadata": {},
     "output_type": "display_data"
    },
    {
     "name": "stdout",
     "output_type": "stream",
     "text": [
      " ↳ |████████████████████████████████████████████| 100.0%\r"
     ]
    },
    {
     "data": {
      "text/html": [
       "<pre style=\"white-space:pre;overflow-x:auto;line-height:normal;font-family:Menlo,'DejaVu Sans Mono',consolas,'Courier New',monospace\"><span style=\"color: #008000; text-decoration-color: #008000; font-weight: bold\">Background video downloaded successfully! 🎉</span>\n",
       "</pre>\n"
      ],
      "text/plain": [
       "\u001b[1;32mBackground video downloaded successfully! 🎉\u001b[0m\n"
      ]
     },
     "metadata": {},
     "output_type": "display_data"
    }
   ],
   "source": [
    "# choice = random.choice(list(background_options.keys()))\n",
    "choice = \"minecraft\"\n",
    "bg_config = background_options[choice]\n",
    "download_background(bg_config)"
   ]
  },
  {
   "cell_type": "code",
   "execution_count": 27,
   "metadata": {},
   "outputs": [
    {
     "data": {
      "text/html": [
       "<pre style=\"white-space:pre;overflow-x:auto;line-height:normal;font-family:Menlo,'DejaVu Sans Mono',consolas,'Courier New',monospace\">╭─────────────────────────────────────────────────────────────────────────────────────────────────────────────────╮\n",
       "│ Finding a spot in the backgrounds video to chop...✂️                                                             │\n",
       "╰─────────────────────────────────────────────────────────────────────────────────────────────────────────────────╯\n",
       "</pre>\n"
      ],
      "text/plain": [
       "╭─────────────────────────────────────────────────────────────────────────────────────────────────────────────────╮\n",
       "│ Finding a spot in the backgrounds video to chop...✂️                                                             │\n",
       "╰─────────────────────────────────────────────────────────────────────────────────────────────────────────────────╯\n"
      ]
     },
     "metadata": {},
     "output_type": "display_data"
    },
    {
     "name": "stderr",
     "output_type": "stream",
     "text": [
      "                                                            \n",
      "                                                              \n",
      "t:   1%|          | 2/300 [04:57<00:31,  9.53it/s, now=None]  "
     ]
    },
    {
     "name": "stdout",
     "output_type": "stream",
     "text": [
      "Moviepy - Running:\n",
      ">>> \"+ \" \".join(cmd)\n",
      "Moviepy - Command successful\n"
     ]
    },
    {
     "data": {
      "text/html": [
       "<pre style=\"white-space:pre;overflow-x:auto;line-height:normal;font-family:Menlo,'DejaVu Sans Mono',consolas,'Courier New',monospace\"><span style=\"color: #008000; text-decoration-color: #008000; font-weight: bold\">Background video chopped successfully!</span>\n",
       "</pre>\n"
      ],
      "text/plain": [
       "\u001b[1;32mBackground video chopped successfully!\u001b[0m\n"
      ]
     },
     "metadata": {},
     "output_type": "display_data"
    },
    {
     "data": {
      "text/plain": [
       "'bbswitzer'"
      ]
     },
     "execution_count": 27,
     "metadata": {},
     "output_type": "execute_result"
    }
   ],
   "source": [
    "length = 20\n",
    "chop_background_video(bg_config, length)"
   ]
  },
  {
   "cell_type": "code",
   "execution_count": 32,
   "metadata": {},
   "outputs": [],
   "source": [
    "#!/usr/bin/env python3\n",
    "import multiprocessing\n",
    "import os\n",
    "import re\n",
    "from os.path import exists\n",
    "from typing import Tuple, Any\n",
    "from moviepy.audio.AudioClip import concatenate_audioclips, CompositeAudioClip\n",
    "from moviepy.audio.io.AudioFileClip import AudioFileClip\n",
    "from moviepy.video.VideoClip import ImageClip\n",
    "from moviepy.video.compositing.CompositeVideoClip import CompositeVideoClip\n",
    "from moviepy.video.compositing.concatenate import concatenate_videoclips\n",
    "from moviepy.video.io.VideoFileClip import VideoFileClip\n",
    "from moviepy.video.io.ffmpeg_tools import ffmpeg_extract_subclip\n",
    "from rich.console import Console\n",
    "\n",
    "from utils.cleanup import cleanup\n",
    "from utils.console import print_step, print_substep\n",
    "from utils.video import Video\n",
    "from utils.videos import save_data\n",
    "from utils import settings"
   ]
  },
  {
   "cell_type": "code",
   "execution_count": null,
   "metadata": {},
   "outputs": [],
   "source": [
    "console = Console()\n",
    "W, H = 1080, 1920\n",
    "\n",
    "def name_normalize(name: str) -> str:\n",
    "    name = re.sub(r'[?\\\\\"%*:|<>]', \"\", name)\n",
    "    name = re.sub(r\"( [w,W]\\s?\\/\\s?[o,O,0])\", r\" without\", name)\n",
    "    name = re.sub(r\"( [w,W]\\s?\\/)\", r\" with\", name)\n",
    "    name = re.sub(r\"(\\d+)\\s?\\/\\s?(\\d+)\", r\"\\1 of \\2\", name)\n",
    "    name = re.sub(r\"(\\w+)\\s?\\/\\s?(\\w+)\", r\"\\1 or \\2\", name)\n",
    "    name = re.sub(r\"\\/\", r\"\", name)\n",
    "    name[:30]\n",
    "    return name\n",
    "\n",
    "\n",
    "def make_final_video(\n",
    "    number_of_clips: int,\n",
    "    length: int,\n",
    "    background_config: Tuple[str, str, str, Any],\n",
    "):\n",
    "    \"\"\"Gathers audio clips, gathers all screenshots, stitches them together and saves the final video to assets/temp\n",
    "    Args:\n",
    "        number_of_clips (int): Index to end at when going through the screenshots'\n",
    "        length (int): Length of the video\n",
    "        background_config (Tuple[str, str, str, Any]): The background config to use.\n",
    "    \"\"\"\n",
    "\n",
    "    print_step(\"Creating the final video 🎥\")\n",
    "    VideoFileClip.reW = lambda clip: clip.resize(width=W)\n",
    "    VideoFileClip.reH = lambda clip: clip.resize(width=H)\n",
    "    times_to_run = 1\n",
    "    opacity = 0.9\n",
    "    transition = 0.2 \n",
    "    background_clip = (\n",
    "        VideoFileClip(f\"assets/backgrounds/cut_vid/background.mp4\")\n",
    "        .without_audio()\n",
    "        .resize(height=H)\n",
    "        .crop(x1=1166.6, y1=0, x2=2246.6, y2=1920)\n",
    "    )\n",
    "\n",
    "    # Gather all audio clips\n",
    "    audio_clips = [AudioFileClip(f\"assets/mp3/{i}.mp3\") for i in range(number_of_clips)]\n",
    "    audio_clips.insert(0, AudioFileClip(f\"assets/mp3/title.mp3\"))\n",
    "    audio_concat = concatenate_audioclips(audio_clips)\n",
    "    audio_composite = CompositeAudioClip([audio_concat])\n",
    "\n",
    "    console.log(f\"[bold green] Video Will Be: {length} Seconds Long\")\n",
    "    # add title to video\n",
    "    image_clips = []\n",
    "    # Gather all images\n",
    "    new_opacity = 1 if opacity is None or float(opacity) >= 1 else float(opacity)\n",
    "    new_transition = 0 if transition is None or float(transition) > 2 else float(transition)\n",
    "    image_clips.insert(\n",
    "        0,\n",
    "        ImageClip(f\"assets/png/title.png\")\n",
    "        .set_duration(audio_clips[0].duration)\n",
    "        .resize(width=W - 100)\n",
    "        .set_opacity(new_opacity)\n",
    "        .crossfadein(new_transition)\n",
    "        .crossfadeout(new_transition),\n",
    "    )\n",
    "\n",
    "    for i in range(0, number_of_clips):\n",
    "        image_clips.append(\n",
    "            ImageClip(f\"assets/png/part_{i}.png\")\n",
    "            .set_duration(audio_clips[i + 1].duration)\n",
    "            .resize(width=W - 100)\n",
    "            .set_opacity(new_opacity)\n",
    "            .crossfadein(new_transition)\n",
    "            .crossfadeout(new_transition)\n",
    "        )\n",
    "\n",
    "    img_clip_pos = background_config[3]\n",
    "    image_concat = concatenate_videoclips(image_clips).set_position(\n",
    "        img_clip_pos\n",
    "    )  # note transition kwarg for delay in imgs\n",
    "    image_concat.audio = audio_composite\n",
    "    final = CompositeVideoClip([background_clip, image_concat])\n",
    "\n",
    "    filename = \"a.mp4\"\n",
    "\n",
    "    final.write_videofile(\n",
    "        f\"assets/temp.mp4\",\n",
    "        fps=30,\n",
    "        audio_codec=\"aac\",\n",
    "        audio_bitrate=\"192k\",\n",
    "        verbose=False,\n",
    "        threads=multiprocessing.cpu_count(),\n",
    "    )\n",
    "    ffmpeg_extract_subclip(\n",
    "        f\"assets/temp.mp4\",\n",
    "        0,\n",
    "        length,\n",
    "        targetname=f\"results/{filename}\",\n",
    "    )\n",
    "    print_step(\"Removing temporary files 🗑\")\n",
    "    cleanups = cleanup(id)\n",
    "    print_substep(f\"Removed {cleanups} temporary files 🗑\")\n",
    "    print_substep(\"See result in the results folder!\")\n"
   ]
  }
 ],
 "metadata": {
  "kernelspec": {
   "display_name": "Python 3.9.13 64-bit",
   "language": "python",
   "name": "python3"
  },
  "language_info": {
   "codemirror_mode": {
    "name": "ipython",
    "version": 3
   },
   "file_extension": ".py",
   "mimetype": "text/x-python",
   "name": "python",
   "nbconvert_exporter": "python",
   "pygments_lexer": "ipython3",
   "version": "3.9.13"
  },
  "orig_nbformat": 4,
  "vscode": {
   "interpreter": {
    "hash": "8e284ee3255a07ad8bf76694974743c4c81cb57e7c969474d752d949b11d721e"
   }
  }
 },
 "nbformat": 4,
 "nbformat_minor": 2
}
